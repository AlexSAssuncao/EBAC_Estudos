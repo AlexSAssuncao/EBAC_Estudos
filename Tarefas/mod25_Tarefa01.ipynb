{
 "cells": [
  {
   "cell_type": "markdown",
   "metadata": {},
   "source": [
    "# Cálculo - Tarefa 01\n",
    "\n",
    "1. Marque quais desses métodos/algoritmos muito populares em ciência de dados são baseados no uso de derivada:\n",
    "\n",
    "    1. Método Mínimos Quadrados\n",
    "    2. Gradiente descendente\n",
    "    3. Newton Raphson\n",
    "    4. CART (Árvore de decisão)"
   ]
  },
  {
   "cell_type": "markdown",
   "metadata": {},
   "source": [
    "**Resposta**\n",
    "\n",
    "Dos métodos/algoritmos listados, os seguintes são baseados no uso de derivadas:\n",
    "\n",
    "1.  **Método dos Mínimos Quadrados:**\n",
    "    * Utiliza derivadas para encontrar os coeficientes que minimizam a soma dos quadrados dos erros entre os valores previstos e os valores reais. As derivadas são usadas para encontrar o ponto onde a função de custo (erro quadrático) é mínima.\n",
    "\n",
    "2.  **Gradiente Descendente:**\n",
    "    * É um algoritmo de otimização que usa derivadas para encontrar o mínimo de uma função de custo. Ele calcula o gradiente (derivada) da função de custo e move-se na direção oposta ao gradiente para encontrar o mínimo.\n",
    "\n",
    "3.  **Newton-Raphson:**\n",
    "    * É um método iterativo que usa derivadas de primeira e segunda ordem para encontrar as raízes de uma função. Pode ser utilizado para encontrar o minimo de uma função, encontrando a raiz da derivada da função de custo.\n",
    "\n",
    "**não usa derivada**\n",
    "\n",
    "* **CART (Árvore de Decisão):**\n",
    "    * Não utiliza derivadas diretamente. Em vez disso, usa métricas como o índice Gini ou a entropia para determinar as melhores divisões dos dados."
   ]
  },
  {
   "cell_type": "markdown",
   "metadata": {},
   "source": [
    "2. Dada uma base de dados com uma variável resposta $y$ e um conjunto de variáveis explicativas. Considere uma estrutura de um modelo de regressão. Explique com suas palavras por que não é possível obter parâmetros que forneçam um erro quadrático médio (EQM) menor que o obtido com estimadores de mínimos quadrados."
   ]
  },
  {
   "cell_type": "markdown",
   "metadata": {},
   "source": [
    "\n",
    "\n",
    "**Resposta**\n",
    "\n",
    "O método dos mínimos quadrados é projetado *especificamente* para encontrar os parâmetros de um modelo de regressão que resultam no **menor** Erro Quadrático Médio (EQM) possível. Ele faz isso através de cálculos matemáticos que garantem que o erro total (a soma dos quadrados das diferenças entre os valores previstos e reais) seja minimizado.  \n",
    "\n",
    "O método dos mínimos quadrados é como um \"ajuste fino\" que encontra a melhor combinação de parâmetros para o modelo, resultando no menor EQM possível. Então não é possível obter um EQM menor porque ele não é otimizado para minimizar essa métrica.\n"
   ]
  }
 ],
 "metadata": {
  "kernelspec": {
   "display_name": "base",
   "language": "python",
   "name": "python3"
  },
  "language_info": {
   "codemirror_mode": {
    "name": "ipython",
    "version": 3
   },
   "file_extension": ".py",
   "mimetype": "text/x-python",
   "name": "python",
   "nbconvert_exporter": "python",
   "pygments_lexer": "ipython3",
   "version": "3.11.7"
  },
  "toc": {
   "base_numbering": 1,
   "nav_menu": {},
   "number_sections": true,
   "sideBar": true,
   "skip_h1_title": true,
   "title_cell": "Índice",
   "title_sidebar": "Conteúdo",
   "toc_cell": false,
   "toc_position": {},
   "toc_section_display": true,
   "toc_window_display": false
  },
  "varInspector": {
   "cols": {
    "lenName": 16,
    "lenType": 16,
    "lenVar": 40
   },
   "kernels_config": {
    "python": {
     "delete_cmd_postfix": "",
     "delete_cmd_prefix": "del ",
     "library": "var_list.py",
     "varRefreshCmd": "print(var_dic_list())"
    },
    "r": {
     "delete_cmd_postfix": ") ",
     "delete_cmd_prefix": "rm(",
     "library": "var_list.r",
     "varRefreshCmd": "cat(var_dic_list()) "
    }
   },
   "types_to_exclude": [
    "module",
    "function",
    "builtin_function_or_method",
    "instance",
    "_Feature"
   ],
   "window_display": false
  }
 },
 "nbformat": 4,
 "nbformat_minor": 4
}
