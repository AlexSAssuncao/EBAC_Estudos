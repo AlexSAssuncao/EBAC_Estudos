{
 "cells": [
  {
   "cell_type": "markdown",
   "metadata": {},
   "source": [
    "# Hyperparâmetros de Random Forest"
   ]
  },
  {
   "cell_type": "markdown",
   "metadata": {},
   "source": [
    ">RandomForestClassifier(  \n",
    "    >>n_estimators=100,  \n",
    "    criterion='gini',   \n",
    "    max_depth=None,  \n",
    "    min_samples_split=2,   \n",
    "    min_samples_leaf=1,  \n",
    "    min_weight_fraction_leaf=0.0,  \n",
    "    max_features='sqrt',  \n",
    "    max_leaf_nodes=None,  \n",
    "    min_impurity_decrease=0.0,  \n",
    "    bootstrap=True,  \n",
    "    oob_score=False,  \n",
    "    n_jobs=None,  \n",
    "    random_state=None,  \n",
    "    verbose=0,  \n",
    "    warm_start=False,  \n",
    "    class_weight=None,  \n",
    "    ccp_alpha=0.0,  \n",
    "    max_samples=None,  \n",
    "    monotonic_cst=None\n",
    "\n",
    "\n",
    ">)"
   ]
  },
  {
   "cell_type": "markdown",
   "metadata": {},
   "source": [
    "\n",
    "* **`n_estimators=100`**: Número de árvores na floresta. Aumentar n_estimators geralmente melhora a precisão do modelo, pois mais árvores fornecem uma previsão mais robusta.\n",
    "* **`criterion='gini'`**: Função para medir a qualidade da divisão (Gini ou entropia).\n",
    "* **`max_depth=None`**: Profundidade máxima das árvores (controla complexidade). Se não for definido, as árvores podem crescer até que todas as folhas sejam puras ou contenham um número mínimo de amostras, o que pode levar ao overfitting, então limitar max_depth ajuda a evitar o overfitting.\n",
    "* **`min_samples_split=2`**: Mínimo de amostras para dividir um nó interno. Controla a complexidade das árvores. Aumentar min_samples_split restringe a criação de nós com poucas amostras, o que pode ajudar a evitar o overfitting.\n",
    "* **`min_samples_leaf=1`**: Mínimo de amostras em um nó folha. Semelhante a min_samples_split, controla a complexidade das árvores. Aumentar min_samples_leaf restringe a criação de folhas com poucas amostras, o que pode ajudar a evitar o overfitting.\n",
    "* **`min_weight_fraction_leaf=0.0`**: Mínimo de fração ponderada de amostras em um nó folha.\n",
    "* **`max_features='sqrt'`**: Número máximo de features consideradas para divisão.\n",
    "* **`max_leaf_nodes=None`**: Número máximo de nós folha.\n",
    "* **`min_impurity_decrease=0.0`**: Mínimo de diminuição da impureza para dividir um nó.\n",
    "* **`bootstrap=True`**: Se amostras bootstrap são usadas.\n",
    "* **`oob_score=False`**: Se usa amostras fora da bolsa para estimar o erro de generalização.\n",
    "* **`n_jobs=None`**: Número de trabalhos paralelos para executar.\n",
    "* **`random_state=None`**: Semente para reprodutibilidade.\n",
    "* **`verbose=0`**: Controla a verbosidade durante o treinamento.\n",
    "* **`warm_start=False`**: Se reutiliza a solução da chamada anterior para ajustar e adicionar mais estimadores ao conjunto.\n",
    "* **`class_weight=None`**: Pondera as classes para problemas desbalanceados.\n",
    "* **`ccp_alpha=0.0`**: Parâmetro de complexidade para poda de custo-complexidade.\n",
    "* **`max_samples=None`**: Número máximo de amostras para treinar cada árvore.\n",
    "* **`monotonic_cst=None`**: Restrições de monotonicidade aplicadas a cada variável de entrada.\n"
   ]
  }
 ],
 "metadata": {
  "kernelspec": {
   "display_name": "base",
   "language": "python",
   "name": "python3"
  },
  "language_info": {
   "codemirror_mode": {
    "name": "ipython",
    "version": 3
   },
   "file_extension": ".py",
   "mimetype": "text/x-python",
   "name": "python",
   "nbconvert_exporter": "python",
   "pygments_lexer": "ipython3",
   "version": "3.11.7"
  }
 },
 "nbformat": 4,
 "nbformat_minor": 2
}
