{
  "cells": [
    {
      "cell_type": "markdown",
      "metadata": {
        "id": "pSfPJsnipXkq"
      },
      "source": [
        "## Árvores de regressão - exercícios 02\n",
        "\n",
        "Este exercício será uma continuação do anterior, mesma base, mesmas variáveis - vamos tentar buscar a 'melhor árvore'.\n"
      ]
    },
    {
      "cell_type": "markdown",
      "metadata": {
        "id": "CL07SfYxpbvw"
      },
      "source": [
        "*Atenção - Utilizar a base de dados em anexo que é a mesma base que utilizamos na atividade anterior! A base Boston, assim como para a primeira atividade foi descontinuada e não deve ser utilizada*"
      ]
    },
    {
      "cell_type": "code",
      "execution_count": 45,
      "metadata": {
        "id": "i91q0awTpXlm"
      },
      "outputs": [],
      "source": [
        "import pandas as pd\n",
        "\n",
        "from sklearn.tree import DecisionTreeRegressor\n",
        "from sklearn import tree\n",
        "from sklearn.model_selection import train_test_split\n",
        "from sklearn.metrics import mean_squared_error\n",
        "\n",
        "import matplotlib.pyplot as plt\n",
        "import graphviz"
      ]
    },
    {
      "cell_type": "markdown",
      "metadata": {
        "id": "0rw9pJC-pXlx"
      },
      "source": [
        "### 1. Execute os passos do exercício anterior, até que você tenha uma árvore de regressão predizendo o valor do imóvel na base de treinamento."
      ]
    },
    {
      "cell_type": "code",
      "execution_count": 46,
      "metadata": {
        "id": "fqWgajp2pXly"
      },
      "outputs": [
        {
          "data": {
            "text/html": [
              "<style>#sk-container-id-3 {color: black;background-color: white;}#sk-container-id-3 pre{padding: 0;}#sk-container-id-3 div.sk-toggleable {background-color: white;}#sk-container-id-3 label.sk-toggleable__label {cursor: pointer;display: block;width: 100%;margin-bottom: 0;padding: 0.3em;box-sizing: border-box;text-align: center;}#sk-container-id-3 label.sk-toggleable__label-arrow:before {content: \"▸\";float: left;margin-right: 0.25em;color: #696969;}#sk-container-id-3 label.sk-toggleable__label-arrow:hover:before {color: black;}#sk-container-id-3 div.sk-estimator:hover label.sk-toggleable__label-arrow:before {color: black;}#sk-container-id-3 div.sk-toggleable__content {max-height: 0;max-width: 0;overflow: hidden;text-align: left;background-color: #f0f8ff;}#sk-container-id-3 div.sk-toggleable__content pre {margin: 0.2em;color: black;border-radius: 0.25em;background-color: #f0f8ff;}#sk-container-id-3 input.sk-toggleable__control:checked~div.sk-toggleable__content {max-height: 200px;max-width: 100%;overflow: auto;}#sk-container-id-3 input.sk-toggleable__control:checked~label.sk-toggleable__label-arrow:before {content: \"▾\";}#sk-container-id-3 div.sk-estimator input.sk-toggleable__control:checked~label.sk-toggleable__label {background-color: #d4ebff;}#sk-container-id-3 div.sk-label input.sk-toggleable__control:checked~label.sk-toggleable__label {background-color: #d4ebff;}#sk-container-id-3 input.sk-hidden--visually {border: 0;clip: rect(1px 1px 1px 1px);clip: rect(1px, 1px, 1px, 1px);height: 1px;margin: -1px;overflow: hidden;padding: 0;position: absolute;width: 1px;}#sk-container-id-3 div.sk-estimator {font-family: monospace;background-color: #f0f8ff;border: 1px dotted black;border-radius: 0.25em;box-sizing: border-box;margin-bottom: 0.5em;}#sk-container-id-3 div.sk-estimator:hover {background-color: #d4ebff;}#sk-container-id-3 div.sk-parallel-item::after {content: \"\";width: 100%;border-bottom: 1px solid gray;flex-grow: 1;}#sk-container-id-3 div.sk-label:hover label.sk-toggleable__label {background-color: #d4ebff;}#sk-container-id-3 div.sk-serial::before {content: \"\";position: absolute;border-left: 1px solid gray;box-sizing: border-box;top: 0;bottom: 0;left: 50%;z-index: 0;}#sk-container-id-3 div.sk-serial {display: flex;flex-direction: column;align-items: center;background-color: white;padding-right: 0.2em;padding-left: 0.2em;position: relative;}#sk-container-id-3 div.sk-item {position: relative;z-index: 1;}#sk-container-id-3 div.sk-parallel {display: flex;align-items: stretch;justify-content: center;background-color: white;position: relative;}#sk-container-id-3 div.sk-item::before, #sk-container-id-3 div.sk-parallel-item::before {content: \"\";position: absolute;border-left: 1px solid gray;box-sizing: border-box;top: 0;bottom: 0;left: 50%;z-index: -1;}#sk-container-id-3 div.sk-parallel-item {display: flex;flex-direction: column;z-index: 1;position: relative;background-color: white;}#sk-container-id-3 div.sk-parallel-item:first-child::after {align-self: flex-end;width: 50%;}#sk-container-id-3 div.sk-parallel-item:last-child::after {align-self: flex-start;width: 50%;}#sk-container-id-3 div.sk-parallel-item:only-child::after {width: 0;}#sk-container-id-3 div.sk-dashed-wrapped {border: 1px dashed gray;margin: 0 0.4em 0.5em 0.4em;box-sizing: border-box;padding-bottom: 0.4em;background-color: white;}#sk-container-id-3 div.sk-label label {font-family: monospace;font-weight: bold;display: inline-block;line-height: 1.2em;}#sk-container-id-3 div.sk-label-container {text-align: center;}#sk-container-id-3 div.sk-container {/* jupyter's `normalize.less` sets `[hidden] { display: none; }` but bootstrap.min.css set `[hidden] { display: none !important; }` so we also need the `!important` here to be able to override the default hidden behavior on the sphinx rendered scikit-learn.org. See: https://github.com/scikit-learn/scikit-learn/issues/21755 */display: inline-block !important;position: relative;}#sk-container-id-3 div.sk-text-repr-fallback {display: none;}</style><div id=\"sk-container-id-3\" class=\"sk-top-container\"><div class=\"sk-text-repr-fallback\"><pre>DecisionTreeRegressor(max_depth=2)</pre><b>In a Jupyter environment, please rerun this cell to show the HTML representation or trust the notebook. <br />On GitHub, the HTML representation is unable to render, please try loading this page with nbviewer.org.</b></div><div class=\"sk-container\" hidden><div class=\"sk-item\"><div class=\"sk-estimator sk-toggleable\"><input class=\"sk-toggleable__control sk-hidden--visually\" id=\"sk-estimator-id-3\" type=\"checkbox\" checked><label for=\"sk-estimator-id-3\" class=\"sk-toggleable__label sk-toggleable__label-arrow\">DecisionTreeRegressor</label><div class=\"sk-toggleable__content\"><pre>DecisionTreeRegressor(max_depth=2)</pre></div></div></div></div></div>"
            ],
            "text/plain": [
              "DecisionTreeRegressor(max_depth=2)"
            ]
          },
          "execution_count": 46,
          "metadata": {},
          "output_type": "execute_result"
        }
      ],
      "source": [
        "df = pd.read_csv('housing.csv')\n",
        "df = df.dropna()\n",
        "X = df.drop(columns=['median_house_value']).copy()\n",
        "X = pd.get_dummies(X, drop_first=True)\n",
        "y = df.median_house_value\n",
        "X_train, X_test, y_train, y_test = train_test_split(X, y,random_state=2360873)\n",
        "regr_1 = DecisionTreeRegressor(max_depth=2)\n",
        "regr_1.fit(X_train, y_train)\n",
        "\n"
      ]
    },
    {
      "cell_type": "code",
      "execution_count": 47,
      "metadata": {},
      "outputs": [],
      "source": [
        "y_train_pred1 = regr_1.predict(X_train) \n",
        "y_test_pred1 = regr_1.predict(X_test) \n",
        "\n",
        "\n"
      ]
    },
    {
      "cell_type": "markdown",
      "metadata": {
        "id": "s-dQl0cUpXl0"
      },
      "source": [
        "### 2.  Calcule o caminho indicado pelos CCP-alfas dessa árvore."
      ]
    },
    {
      "cell_type": "code",
      "execution_count": 48,
      "metadata": {
        "id": "9p5-aB1ypXl3"
      },
      "outputs": [
        {
          "data": {
            "text/plain": [
              "array([0.00000000e+00, 7.43484913e+08, 1.63938270e+09, 4.16922448e+09])"
            ]
          },
          "execution_count": 48,
          "metadata": {},
          "output_type": "execute_result"
        }
      ],
      "source": [
        "path = regr_1.cost_complexity_pruning_path(X_train, y_train)\n",
        "ccp_alphas, impurities1 = path.ccp_alphas, path.impurities\n",
        "\n",
        "ccp_alphas"
      ]
    },
    {
      "cell_type": "markdown",
      "metadata": {
        "id": "E3ympg2vpXl6"
      },
      "source": [
        "### 3. Paca cada valor de alpha obtido no item 2, treine uma árvore com o respectivo alfa, e guarde essa árvore em uma lista."
      ]
    },
    {
      "cell_type": "code",
      "execution_count": 49,
      "metadata": {
        "id": "miumNbKtpXl7"
      },
      "outputs": [],
      "source": [
        "clfs = []\n",
        "\n",
        "for ccp_alpha in ccp_alphas:\n",
        "    clf = DecisionTreeRegressor(random_state=0, ccp_alpha=ccp_alpha)\n",
        "    clf.fit(X_train, y_train)\n",
        "    clfs.append(clf)"
      ]
    },
    {
      "cell_type": "markdown",
      "metadata": {
        "id": "a0JWQ2oNpXl8"
      },
      "source": [
        "### 4. Para cada árvore na lista, calcule o MSE da árvore."
      ]
    },
    {
      "cell_type": "code",
      "execution_count": 51,
      "metadata": {
        "id": "L5bklbfCpXl9"
      },
      "outputs": [
        {
          "name": "stdout",
          "output_type": "stream",
          "text": [
            "## MSE ##\n",
            "[0.0, 6747664717.614827, 9130532332.318542, 13299756810.515352]\n",
            "[4505734930.828146, 6743893209.801137, 9367161016.734108, 13399765275.75297]\n"
          ]
        }
      ],
      "source": [
        "train_scores = [mean_squared_error(y_train , clf.predict(X_train)) for clf in clfs]\n",
        "test_scores  = [mean_squared_error(y_test  , clf.predict(X_test )) for clf in clfs]\n",
        "\n",
        "print('## MSE ##')\n",
        "print(train_scores)\n",
        "print(test_scores)\n",
        "\n"
      ]
    },
    {
      "cell_type": "markdown",
      "metadata": {
        "id": "tL0aolqkpXl9"
      },
      "source": [
        "### 5. Monte um gráfico do MSE pelo alpha, escolha um valor de alpha perto do ponto de mínimo do MSE"
      ]
    },
    {
      "cell_type": "code",
      "execution_count": 52,
      "metadata": {
        "id": "06zkHy8FpXl-"
      },
      "outputs": [
        {
          "data": {
            "image/png": "[encoded data removed]",
            "text/plain": [
              "<Figure size 640x480 with 1 Axes>"
            ]
          },
          "metadata": {},
          "output_type": "display_data"
        }
      ],
      "source": [
        "\n",
        "fig, ax = plt.subplots()\n",
        "ax.set_xlabel(\"alpha\")\n",
        "ax.set_ylabel(\"MSE\")\n",
        "ax.set_title(\"MSE x alpha do conjunto de dados de treino e teste\")\n",
        "ax.plot(ccp_alphas[:-1], train_scores[:-1], marker='o', label=\"treino\",\n",
        "        drawstyle=\"steps-post\")\n",
        "ax.plot(ccp_alphas[:-1], test_scores[:-1], marker='o', label=\"teste\",\n",
        "        drawstyle=\"steps-post\")\n",
        "ax.legend()\n",
        "plt.show()"
      ]
    },
    {
      "cell_type": "markdown",
      "metadata": {
        "id": "kHmscPlepXl_"
      },
      "source": [
        "### 6. Calcule o R-quadrado dessa árvore encontrada no item acima"
      ]
    },
    {
      "cell_type": "code",
      "execution_count": 53,
      "metadata": {
        "id": "YB8wJkIwpXmA"
      },
      "outputs": [
        {
          "name": "stdout",
          "output_type": "stream",
          "text": [
            "R-quadrado da base Treino: 0.53\n",
            "R-quadrado da base Teste: 0.53\n"
          ]
        }
      ],
      "source": [
        "arvore_ccp_alpha = DecisionTreeRegressor(random_state=2360873, ccp_alpha=0.375*1e9)\n",
        "arvore_ccp_alpha.fit(X_train, y_train)\n",
        "\n",
        "print(f'R-quadrado da base Treino: {arvore_ccp_alpha.score(X_train, y_train):.2f}')\n",
        "print(f'R-quadrado da base Teste: {arvore_ccp_alpha.score(X_test, y_test):.2f}')"
      ]
    },
    {
      "cell_type": "markdown",
      "metadata": {
        "id": "C7Q2N0zUpXmA"
      },
      "source": [
        "### 7. Visualize esta árvore."
      ]
    },
    {
      "cell_type": "code",
      "execution_count": 54,
      "metadata": {},
      "outputs": [
        {
          "name": "stdout",
          "output_type": "stream",
          "text": [
            "CCP_Alpha: 375000000.0\n",
            "Profundidade: 3\n",
            "MSE: 6297655287.93\n"
          ]
        }
      ],
      "source": [
        "print(f'CCP_Alpha: {arvore_ccp_alpha.ccp_alpha}')\n",
        "print(f'Profundidade: {arvore_ccp_alpha.tree_.max_depth}')\n",
        "print(f'MSE: {mean_squared_error(y_test, arvore_ccp_alpha.predict(X_test)):.2f}')"
      ]
    },
    {
      "cell_type": "code",
      "execution_count": 55,
      "metadata": {
        "id": "hK-ymFkmpXmB"
      },
      "outputs": [
        {
          "data": {
            "image/svg+xml": [
              "<?xml version=\"1.0\" encoding=\"UTF-8\" standalone=\"no\"?>\n",
              "<!DOCTYPE svg PUBLIC \"-//W3C//DTD SVG 1.1//EN\"\n",
              " \"http://www.w3.org/Graphics/SVG/1.1/DTD/svg11.dtd\">\n",
              "<!-- Generated by graphviz version 12.2.1 (20241206.2353)\n",
              " -->\n",
              "<!-- Title: Tree Pages: 1 -->\n",
              "<svg width=\"1054pt\" height=\"384pt\"\n",
              " viewBox=\"0.00 0.00 1053.75 384.25\" xmlns=\"http://www.w3.org/2000/svg\" xmlns:xlink=\"http://www.w3.org/1999/xlink\">\n",
              "<g id=\"graph0\" class=\"graph\" transform=\"scale(1 1) rotate(0) translate(4 380.25)\">\n",
              "<title>Tree</title>\n",
              "<polygon fill=\"white\" stroke=\"none\" points=\"-4,4 -4,-380.25 1049.75,-380.25 1049.75,4 -4,4\"/>\n",
              "<!-- 0 -->\n",
              "<g id=\"node1\" class=\"node\">\n",
              "<title>0</title>\n",
              "<polygon fill=\"#f7d7c1\" stroke=\"black\" points=\"694.5,-376.25 469.25,-376.25 469.25,-305.25 694.5,-305.25 694.5,-376.25\"/>\n",
              "<text text-anchor=\"middle\" x=\"581.88\" y=\"-358.95\" font-family=\"Helvetica,sans-Serif\" font-size=\"14.00\">median_income &lt;= 5.045</text>\n",
              "<text text-anchor=\"middle\" x=\"581.88\" y=\"-343.2\" font-family=\"Helvetica,sans-Serif\" font-size=\"14.00\">squared_error = 13299756810.515</text>\n",
              "<text text-anchor=\"middle\" x=\"581.88\" y=\"-327.45\" font-family=\"Helvetica,sans-Serif\" font-size=\"14.00\">samples = 15324</text>\n",
              "<text text-anchor=\"middle\" x=\"581.88\" y=\"-311.7\" font-family=\"Helvetica,sans-Serif\" font-size=\"14.00\">value = 206717.751</text>\n",
              "</g>\n",
              "<!-- 1 -->\n",
              "<g id=\"node2\" class=\"node\">\n",
              "<title>1</title>\n",
              "<polygon fill=\"#fae5d7\" stroke=\"black\" points=\"570.75,-269.25 353,-269.25 353,-198.25 570.75,-198.25 570.75,-269.25\"/>\n",
              "<text text-anchor=\"middle\" x=\"461.88\" y=\"-251.95\" font-family=\"Helvetica,sans-Serif\" font-size=\"14.00\">ocean_proximity_INLAND &lt;= 0.5</text>\n",
              "<text text-anchor=\"middle\" x=\"461.88\" y=\"-236.2\" font-family=\"Helvetica,sans-Serif\" font-size=\"14.00\">squared_error = 8335366998.769</text>\n",
              "<text text-anchor=\"middle\" x=\"461.88\" y=\"-220.45\" font-family=\"Helvetica,sans-Serif\" font-size=\"14.00\">samples = 12133</text>\n",
              "<text text-anchor=\"middle\" x=\"461.88\" y=\"-204.7\" font-family=\"Helvetica,sans-Serif\" font-size=\"14.00\">value = 173604.11</text>\n",
              "</g>\n",
              "<!-- 0&#45;&gt;1 -->\n",
              "<g id=\"edge1\" class=\"edge\">\n",
              "<title>0&#45;&gt;1</title>\n",
              "<path fill=\"none\" stroke=\"black\" d=\"M541.92,-304.79C531.7,-295.84 520.6,-286.13 510.01,-276.87\"/>\n",
              "<polygon fill=\"black\" stroke=\"black\" points=\"512.63,-274.51 502.8,-270.56 508.02,-279.78 512.63,-274.51\"/>\n",
              "<text text-anchor=\"middle\" x=\"503.32\" y=\"-289.08\" font-family=\"Helvetica,sans-Serif\" font-size=\"14.00\">True</text>\n",
              "</g>\n",
              "<!-- 6 -->\n",
              "<g id=\"node7\" class=\"node\">\n",
              "<title>6</title>\n",
              "<polygon fill=\"#eca26d\" stroke=\"black\" points=\"814.5,-269.25 589.25,-269.25 589.25,-198.25 814.5,-198.25 814.5,-269.25\"/>\n",
              "<text text-anchor=\"middle\" x=\"701.88\" y=\"-251.95\" font-family=\"Helvetica,sans-Serif\" font-size=\"14.00\">median_income &lt;= 6.582</text>\n",
              "<text text-anchor=\"middle\" x=\"701.88\" y=\"-236.2\" font-family=\"Helvetica,sans-Serif\" font-size=\"14.00\">squared_error = 12153954767.906</text>\n",
              "<text text-anchor=\"middle\" x=\"701.88\" y=\"-220.45\" font-family=\"Helvetica,sans-Serif\" font-size=\"14.00\">samples = 3191</text>\n",
              "<text text-anchor=\"middle\" x=\"701.88\" y=\"-204.7\" font-family=\"Helvetica,sans-Serif\" font-size=\"14.00\">value = 332624.305</text>\n",
              "</g>\n",
              "<!-- 0&#45;&gt;6 -->\n",
              "<g id=\"edge6\" class=\"edge\">\n",
              "<title>0&#45;&gt;6</title>\n",
              "<path fill=\"none\" stroke=\"black\" d=\"M621.83,-304.79C632.05,-295.84 643.15,-286.13 653.74,-276.87\"/>\n",
              "<polygon fill=\"black\" stroke=\"black\" points=\"655.73,-279.78 660.95,-270.56 651.12,-274.51 655.73,-279.78\"/>\n",
              "<text text-anchor=\"middle\" x=\"660.43\" y=\"-289.08\" font-family=\"Helvetica,sans-Serif\" font-size=\"14.00\">False</text>\n",
              "</g>\n",
              "<!-- 2 -->\n",
              "<g id=\"node3\" class=\"node\">\n",
              "<title>2</title>\n",
              "<polygon fill=\"#f7d7c0\" stroke=\"black\" points=\"335.75,-162.25 118,-162.25 118,-91.25 335.75,-91.25 335.75,-162.25\"/>\n",
              "<text text-anchor=\"middle\" x=\"226.88\" y=\"-144.95\" font-family=\"Helvetica,sans-Serif\" font-size=\"14.00\">median_income &lt;= 2.928</text>\n",
              "<text text-anchor=\"middle\" x=\"226.88\" y=\"-129.2\" font-family=\"Helvetica,sans-Serif\" font-size=\"14.00\">squared_error = 8134666025.376</text>\n",
              "<text text-anchor=\"middle\" x=\"226.88\" y=\"-113.45\" font-family=\"Helvetica,sans-Serif\" font-size=\"14.00\">samples = 7736</text>\n",
              "<text text-anchor=\"middle\" x=\"226.88\" y=\"-97.7\" font-family=\"Helvetica,sans-Serif\" font-size=\"14.00\">value = 207909.483</text>\n",
              "</g>\n",
              "<!-- 1&#45;&gt;2 -->\n",
              "<g id=\"edge2\" class=\"edge\">\n",
              "<title>1&#45;&gt;2</title>\n",
              "<path fill=\"none\" stroke=\"black\" d=\"M383.62,-197.79C361.84,-188.05 338.02,-177.41 315.68,-167.43\"/>\n",
              "<polygon fill=\"black\" stroke=\"black\" points=\"317.13,-164.24 306.57,-163.36 314.27,-170.63 317.13,-164.24\"/>\n",
              "</g>\n",
              "<!-- 5 -->\n",
              "<g id=\"node6\" class=\"node\">\n",
              "<title>5</title>\n",
              "<polygon fill=\"#ffffff\" stroke=\"black\" points=\"571.75,-154.38 354,-154.38 354,-99.12 571.75,-99.12 571.75,-154.38\"/>\n",
              "<text text-anchor=\"middle\" x=\"462.88\" y=\"-137.07\" font-family=\"Helvetica,sans-Serif\" font-size=\"14.00\">squared_error = 2975058200.963</text>\n",
              "<text text-anchor=\"middle\" x=\"462.88\" y=\"-121.33\" font-family=\"Helvetica,sans-Serif\" font-size=\"14.00\">samples = 4397</text>\n",
              "<text text-anchor=\"middle\" x=\"462.88\" y=\"-105.58\" font-family=\"Helvetica,sans-Serif\" font-size=\"14.00\">value = 113247.874</text>\n",
              "</g>\n",
              "<!-- 1&#45;&gt;5 -->\n",
              "<g id=\"edge5\" class=\"edge\">\n",
              "<title>1&#45;&gt;5</title>\n",
              "<path fill=\"none\" stroke=\"black\" d=\"M462.21,-197.79C462.31,-187.56 462.41,-176.32 462.51,-165.91\"/>\n",
              "<polygon fill=\"black\" stroke=\"black\" points=\"466.01,-166.14 462.6,-156.1 459.01,-166.07 466.01,-166.14\"/>\n",
              "</g>\n",
              "<!-- 3 -->\n",
              "<g id=\"node4\" class=\"node\">\n",
              "<title>3</title>\n",
              "<polygon fill=\"#fae9dc\" stroke=\"black\" points=\"217.75,-55.25 0,-55.25 0,0 217.75,0 217.75,-55.25\"/>\n",
              "<text text-anchor=\"middle\" x=\"108.88\" y=\"-37.95\" font-family=\"Helvetica,sans-Serif\" font-size=\"14.00\">squared_error = 5674651680.273</text>\n",
              "<text text-anchor=\"middle\" x=\"108.88\" y=\"-22.2\" font-family=\"Helvetica,sans-Serif\" font-size=\"14.00\">samples = 2907</text>\n",
              "<text text-anchor=\"middle\" x=\"108.88\" y=\"-6.45\" font-family=\"Helvetica,sans-Serif\" font-size=\"14.00\">value = 165369.943</text>\n",
              "</g>\n",
              "<!-- 2&#45;&gt;3 -->\n",
              "<g id=\"edge3\" class=\"edge\">\n",
              "<title>2&#45;&gt;3</title>\n",
              "<path fill=\"none\" stroke=\"black\" d=\"M184.61,-90.96C173.44,-81.77 161.4,-71.86 150.28,-62.71\"/>\n",
              "<polygon fill=\"black\" stroke=\"black\" points=\"152.71,-60.17 142.76,-56.52 148.26,-65.58 152.71,-60.17\"/>\n",
              "</g>\n",
              "<!-- 4 -->\n",
              "<g id=\"node5\" class=\"node\">\n",
              "<title>4</title>\n",
              "<polygon fill=\"#f4ccaf\" stroke=\"black\" points=\"453.75,-55.25 236,-55.25 236,0 453.75,0 453.75,-55.25\"/>\n",
              "<text text-anchor=\"middle\" x=\"344.88\" y=\"-37.95\" font-family=\"Helvetica,sans-Serif\" font-size=\"14.00\">squared_error = 7870415526.905</text>\n",
              "<text text-anchor=\"middle\" x=\"344.88\" y=\"-22.2\" font-family=\"Helvetica,sans-Serif\" font-size=\"14.00\">samples = 4829</text>\n",
              "<text text-anchor=\"middle\" x=\"344.88\" y=\"-6.45\" font-family=\"Helvetica,sans-Serif\" font-size=\"14.00\">value = 233517.775</text>\n",
              "</g>\n",
              "<!-- 2&#45;&gt;4 -->\n",
              "<g id=\"edge4\" class=\"edge\">\n",
              "<title>2&#45;&gt;4</title>\n",
              "<path fill=\"none\" stroke=\"black\" d=\"M269.14,-90.96C280.31,-81.77 292.35,-71.86 303.47,-62.71\"/>\n",
              "<polygon fill=\"black\" stroke=\"black\" points=\"305.49,-65.58 310.99,-56.52 301.04,-60.17 305.49,-65.58\"/>\n",
              "</g>\n",
              "<!-- 7 -->\n",
              "<g id=\"node8\" class=\"node\">\n",
              "<title>7</title>\n",
              "<polygon fill=\"#f0b58b\" stroke=\"black\" points=\"809.75,-154.38 592,-154.38 592,-99.12 809.75,-99.12 809.75,-154.38\"/>\n",
              "<text text-anchor=\"middle\" x=\"700.88\" y=\"-137.07\" font-family=\"Helvetica,sans-Serif\" font-size=\"14.00\">squared_error = 8718198891.488</text>\n",
              "<text text-anchor=\"middle\" x=\"700.88\" y=\"-121.33\" font-family=\"Helvetica,sans-Serif\" font-size=\"14.00\">samples = 2018</text>\n",
              "<text text-anchor=\"middle\" x=\"700.88\" y=\"-105.58\" font-family=\"Helvetica,sans-Serif\" font-size=\"14.00\">value = 287068.138</text>\n",
              "</g>\n",
              "<!-- 6&#45;&gt;7 -->\n",
              "<g id=\"edge7\" class=\"edge\">\n",
              "<title>6&#45;&gt;7</title>\n",
              "<path fill=\"none\" stroke=\"black\" d=\"M701.54,-197.79C701.44,-187.56 701.34,-176.32 701.24,-165.91\"/>\n",
              "<polygon fill=\"black\" stroke=\"black\" points=\"704.74,-166.07 701.15,-156.1 697.74,-166.14 704.74,-166.07\"/>\n",
              "</g>\n",
              "<!-- 8 -->\n",
              "<g id=\"node9\" class=\"node\">\n",
              "<title>8</title>\n",
              "<polygon fill=\"#e58139\" stroke=\"black\" points=\"1045.75,-154.38 828,-154.38 828,-99.12 1045.75,-99.12 1045.75,-154.38\"/>\n",
              "<text text-anchor=\"middle\" x=\"936.88\" y=\"-137.07\" font-family=\"Helvetica,sans-Serif\" font-size=\"14.00\">squared_error = 8351902376.609</text>\n",
              "<text text-anchor=\"middle\" x=\"936.88\" y=\"-121.33\" font-family=\"Helvetica,sans-Serif\" font-size=\"14.00\">samples = 1173</text>\n",
              "<text text-anchor=\"middle\" x=\"936.88\" y=\"-105.58\" font-family=\"Helvetica,sans-Serif\" font-size=\"14.00\">value = 410998.0</text>\n",
              "</g>\n",
              "<!-- 6&#45;&gt;8 -->\n",
              "<g id=\"edge8\" class=\"edge\">\n",
              "<title>6&#45;&gt;8</title>\n",
              "<path fill=\"none\" stroke=\"black\" d=\"M780.13,-197.79C807.95,-185.36 839.09,-171.44 866.24,-159.31\"/>\n",
              "<polygon fill=\"black\" stroke=\"black\" points=\"867.35,-162.65 875.05,-155.37 864.49,-156.26 867.35,-162.65\"/>\n",
              "</g>\n",
              "</g>\n",
              "</svg>\n"
            ],
            "text/plain": [
              "<graphviz.sources.Source at 0x18491a70990>"
            ]
          },
          "execution_count": 55,
          "metadata": {},
          "output_type": "execute_result"
        }
      ],
      "source": [
        "dot_data = tree.export_graphviz(arvore_ccp_alpha, out_file=None, \n",
        "                                feature_names=X.columns,\n",
        "                                filled=True)\n",
        "graphviz.Source(dot_data)"
      ]
    }
  ],
  "metadata": {
    "colab": {
      "provenance": []
    },
    "kernelspec": {
      "display_name": "base",
      "language": "python",
      "name": "python3"
    },
    "language_info": {
      "codemirror_mode": {
        "name": "ipython",
        "version": 3
      },
      "file_extension": ".py",
      "mimetype": "text/x-python",
      "name": "python",
      "nbconvert_exporter": "python",
      "pygments_lexer": "ipython3",
      "version": "3.11.7"
    }
  },
  "nbformat": 4,
  "nbformat_minor": 0
}
